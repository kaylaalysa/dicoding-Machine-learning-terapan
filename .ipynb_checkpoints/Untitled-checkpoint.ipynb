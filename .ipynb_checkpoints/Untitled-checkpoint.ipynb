{
 "cells": [
  {
   "cell_type": "markdown",
   "id": "e0f291cd",
   "metadata": {},
   "source": [
    "# German Traffic Sign\n",
    "\n",
    "<br>\n",
    "\n",
    "|Indeks kelas | Keterangan label          | Indeks kelas | Keterangan label |\n",
    "|-------------|---------------------------|--------------|------------------|\n",
    "| 0           | Speed limit (20km/h)      | 22           | Bumpy Road       |\n",
    "| 1           | Speed limit (30km/h)      | 23 | Slippery road |\n",
    "| 2           | Speed limit (50km/h)      |24 | Road narrows on the right |\n",
    "| 3           | Speed limit (60km/h)      | 25 | Road work |\n",
    "| 4           | Speed limit (70km/h)      | 26 | Traffic signals | \n",
    "| 5           | Speed limit (80km/h)      | 27 | Pedestrians |\n",
    "| 6           |End of speed limit (80km/h)| 28 | Children crossing |\n",
    "| 7           | Speed limit (100km/h)     | 29 | Bicycles crossing |\n",
    "| 8           |Speed limit (120km/h)      | 30 | Beware of ice/ snow |\n",
    "| 9           | No passing                | 31 | Wild animals crossing |\n",
    "| 10          |No passing for vehicles over 3.5 metric tons| 32 | End of all speed and passing limits |\n",
    "| 11          | Right-of-way at the next intersection | 33 | Turn right ahead | \n",
    "| 12          | Priority Road | 34 | Turn left ahead |\n",
    "| 13          | Yield | 35 | Ahead only |\n",
    "| 14          | Stop | 36 | Go straight or right |\n",
    "| 15          | No Vehicles | 37 | Go straight or left |\n",
    "| 16          |Vehicles over 3.5 metric tons prohibited | 38 | Keep right |\n",
    "| 17          | No entry | 39 | Keep left |\n",
    "| 18          | General caution | 40 | Roundabout mandatory | \n",
    "| 19          | Dangerous curve to the left | 41 | End of no passing | \n",
    "| 20          | Dangerous curve to the right | 42 | End of no passing by vehicles over 3.5 metric |\n",
    "| 21          | Double curve | \n",
    "\n",
    "\n",
    "## Data Loading "
   ]
  },
  {
   "cell_type": "code",
   "execution_count": 1,
   "id": "ec2ef0a8",
   "metadata": {},
   "outputs": [],
   "source": [
    "import pandas as pd\n",
    "import numpy as np\n",
    "import tensorflow as tf\n",
    "from keras.models import Sequential\n",
    "from keras.models import Sequential, load_model\n",
    "from keras.layers import Conv2D, Dense, Flatten, Dropout, MaxPool2D\n",
    "from sklearn.model_selection import train_test_split\n",
    "import pickle\n",
    "import seaborn as sns\n",
    "import matplotlib\n",
    "import matplotlib.pyplot as plt\n",
    "matplotlib.style.use('ggplot')\n",
    "%matplotlib inline\n",
    "%config InlineBackend.figure_format = 'retina'"
   ]
  },
  {
   "cell_type": "code",
   "execution_count": null,
   "id": "fac49266",
   "metadata": {},
   "outputs": [],
   "source": []
  }
 ],
 "metadata": {
  "kernelspec": {
   "display_name": "Python 3 (ipykernel)",
   "language": "python",
   "name": "python3"
  },
  "language_info": {
   "codemirror_mode": {
    "name": "ipython",
    "version": 3
   },
   "file_extension": ".py",
   "mimetype": "text/x-python",
   "name": "python",
   "nbconvert_exporter": "python",
   "pygments_lexer": "ipython3",
   "version": "3.10.9"
  }
 },
 "nbformat": 4,
 "nbformat_minor": 5
}
